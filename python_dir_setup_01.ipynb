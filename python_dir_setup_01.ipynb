{
  "nbformat": 4,
  "nbformat_minor": 0,
  "metadata": {
    "colab": {
      "provenance": [],
      "authorship_tag": "ABX9TyNkdYxzuhLyYN7t5+SxGcHY",
      "include_colab_link": true
    },
    "kernelspec": {
      "name": "python3",
      "display_name": "Python 3"
    },
    "language_info": {
      "name": "python"
    }
  },
  "cells": [
    {
      "cell_type": "markdown",
      "metadata": {
        "id": "view-in-github",
        "colab_type": "text"
      },
      "source": [
        "<a href=\"https://colab.research.google.com/github/paragundirwadkar/pyhton_ai_ml/blob/main/python_dir_setup_01.ipynb\" target=\"_parent\"><img src=\"https://colab.research.google.com/assets/colab-badge.svg\" alt=\"Open In Colab\"/></a>"
      ]
    },
    {
      "cell_type": "code",
      "execution_count": 1,
      "metadata": {
        "colab": {
          "base_uri": "https://localhost:8080/"
        },
        "id": "YtfmrMh-ZKpe",
        "outputId": "b7cc39f7-ae38-4091-d2d5-3d4b98a7a0ac"
      },
      "outputs": [
        {
          "output_type": "stream",
          "name": "stdout",
          "text": [
            "Looking in indexes: https://pypi.org/simple, https://us-python.pkg.dev/colab-wheels/public/simple/\n",
            "Collecting cookiecutter\n",
            "  Downloading cookiecutter-2.1.1-py2.py3-none-any.whl (36 kB)\n",
            "Requirement already satisfied: pyyaml>=5.3.1 in /usr/local/lib/python3.8/dist-packages (from cookiecutter) (6.0)\n",
            "Requirement already satisfied: python-slugify>=4.0.0 in /usr/local/lib/python3.8/dist-packages (from cookiecutter) (8.0.1)\n",
            "Collecting binaryornot>=0.4.4\n",
            "  Downloading binaryornot-0.4.4-py2.py3-none-any.whl (9.0 kB)\n",
            "Requirement already satisfied: requests>=2.23.0 in /usr/local/lib/python3.8/dist-packages (from cookiecutter) (2.25.1)\n",
            "Collecting jinja2-time>=0.2.0\n",
            "  Downloading jinja2_time-0.2.0-py2.py3-none-any.whl (6.4 kB)\n",
            "Requirement already satisfied: Jinja2<4.0.0,>=2.7 in /usr/local/lib/python3.8/dist-packages (from cookiecutter) (3.1.2)\n",
            "Requirement already satisfied: click<9.0.0,>=7.0 in /usr/local/lib/python3.8/dist-packages (from cookiecutter) (8.1.3)\n",
            "Requirement already satisfied: chardet>=3.0.2 in /usr/local/lib/python3.8/dist-packages (from binaryornot>=0.4.4->cookiecutter) (4.0.0)\n",
            "Requirement already satisfied: MarkupSafe>=2.0 in /usr/local/lib/python3.8/dist-packages (from Jinja2<4.0.0,>=2.7->cookiecutter) (2.1.2)\n",
            "Collecting arrow\n",
            "  Downloading arrow-1.2.3-py3-none-any.whl (66 kB)\n",
            "\u001b[2K     \u001b[90m━━━━━━━━━━━━━━━━━━━━━━━━━━━━━━━━━━━━━━━━\u001b[0m \u001b[32m66.4/66.4 KB\u001b[0m \u001b[31m9.4 MB/s\u001b[0m eta \u001b[36m0:00:00\u001b[0m\n",
            "\u001b[?25hRequirement already satisfied: text-unidecode>=1.3 in /usr/local/lib/python3.8/dist-packages (from python-slugify>=4.0.0->cookiecutter) (1.3)\n",
            "Requirement already satisfied: idna<3,>=2.5 in /usr/local/lib/python3.8/dist-packages (from requests>=2.23.0->cookiecutter) (2.10)\n",
            "Requirement already satisfied: certifi>=2017.4.17 in /usr/local/lib/python3.8/dist-packages (from requests>=2.23.0->cookiecutter) (2022.12.7)\n",
            "Requirement already satisfied: urllib3<1.27,>=1.21.1 in /usr/local/lib/python3.8/dist-packages (from requests>=2.23.0->cookiecutter) (1.26.14)\n",
            "Requirement already satisfied: python-dateutil>=2.7.0 in /usr/local/lib/python3.8/dist-packages (from arrow->jinja2-time>=0.2.0->cookiecutter) (2.8.2)\n",
            "Requirement already satisfied: six>=1.5 in /usr/local/lib/python3.8/dist-packages (from python-dateutil>=2.7.0->arrow->jinja2-time>=0.2.0->cookiecutter) (1.15.0)\n",
            "Installing collected packages: binaryornot, arrow, jinja2-time, cookiecutter\n",
            "Successfully installed arrow-1.2.3 binaryornot-0.4.4 cookiecutter-2.1.1 jinja2-time-0.2.0\n"
          ]
        }
      ],
      "source": [
        "!pip install cookiecutter"
      ]
    },
    {
      "cell_type": "code",
      "source": [
        "!cookiecutter https://github.com/drivendata/cookiecutter-data-science"
      ],
      "metadata": {
        "colab": {
          "base_uri": "https://localhost:8080/"
        },
        "id": "ohjPGcU-bj8G",
        "outputId": "8a1671c6-8e0d-4b90-81df-ba417429715c"
      },
      "execution_count": 2,
      "outputs": [
        {
          "output_type": "stream",
          "name": "stdout",
          "text": [
            "project_name [project_name]: iisc_python_aiml_ops\n",
            "repo_name [iisc_python_aiml_ops]: \n",
            "author_name [Your name (or your organization/company/team)]: Parag Undirwadkar\n",
            "description [A short description of the project.]: AI ML OPS python project\n",
            "Select open_source_license:\n",
            "1 - MIT\n",
            "2 - BSD-3-Clause\n",
            "3 - No license file\n",
            "Choose from 1, 2, 3 [1]: 1\n",
            "s3_bucket [[OPTIONAL] your-bucket-for-syncing-data (do not include 's3://')]: \n",
            "aws_profile [default]: \n",
            "Select python_interpreter:\n",
            "1 - python3\n",
            "2 - python\n",
            "Choose from 1, 2 [1]: 1\n",
            "\n",
            "\n",
            "=============================================================================\n",
            "*** DEPRECATION WARNING ***\n",
            "\n",
            "Cookiecutter data science is moving to v2 soon, which will entail using\n",
            "the command `ccds ...` rather than `cookiecutter ...`. The cookiecutter command\n",
            "will continue to work, and this version of the template will still be available.\n",
            "To use the legacy template, you will need to explicitly use `-c v1` to select it.\n",
            "\n",
            "Please update any scripts/automation you have to append the `-c v1` option,\n",
            "which is available now.\n",
            "\n",
            "For example:\n",
            "    cookiecutter -c v1 https://github.com/drivendata/cookiecutter-data-science\n",
            "=============================================================================\n",
            "\n",
            "    \n"
          ]
        }
      ]
    },
    {
      "cell_type": "code",
      "source": [
        "cd iisc_python_aiml_ops/"
      ],
      "metadata": {
        "colab": {
          "base_uri": "https://localhost:8080/"
        },
        "id": "QBCiyhVtbsYF",
        "outputId": "1eb7bf8e-f42d-480f-9551-71d63b260bcb"
      },
      "execution_count": 5,
      "outputs": [
        {
          "output_type": "stream",
          "name": "stdout",
          "text": [
            "/content/iisc_python_aiml_ops\n"
          ]
        }
      ]
    },
    {
      "cell_type": "code",
      "source": [
        "pwd"
      ],
      "metadata": {
        "colab": {
          "base_uri": "https://localhost:8080/",
          "height": 35
        },
        "id": "bKi8_-bLcYsM",
        "outputId": "6116d03d-1b7e-4416-de5c-20c2cf23410d"
      },
      "execution_count": 6,
      "outputs": [
        {
          "output_type": "execute_result",
          "data": {
            "text/plain": [
              "'/content/iisc_python_aiml_ops'"
            ],
            "application/vnd.google.colaboratory.intrinsic+json": {
              "type": "string"
            }
          },
          "metadata": {},
          "execution_count": 6
        }
      ]
    },
    {
      "cell_type": "code",
      "source": [
        "dir"
      ],
      "metadata": {
        "colab": {
          "base_uri": "https://localhost:8080/"
        },
        "id": "iQcoPCkacabY",
        "outputId": "82b850c2-7c4f-4bf4-f197-72973ccb6694"
      },
      "execution_count": 7,
      "outputs": [
        {
          "output_type": "execute_result",
          "data": {
            "text/plain": [
              "<function dir>"
            ]
          },
          "metadata": {},
          "execution_count": 7
        }
      ]
    },
    {
      "cell_type": "code",
      "source": [
        "ls"
      ],
      "metadata": {
        "colab": {
          "base_uri": "https://localhost:8080/"
        },
        "id": "u5OYRGylcceF",
        "outputId": "f21e6e27-126c-498d-8551-b2e8f2e9f02e"
      },
      "execution_count": 8,
      "outputs": [
        {
          "output_type": "stream",
          "name": "stdout",
          "text": [
            "\u001b[0m\u001b[01;34mdata\u001b[0m/    Makefile    README.md    requirements.txt  test_environment.py\n",
            "\u001b[01;34mdocs\u001b[0m/    \u001b[01;34mmodels\u001b[0m/     \u001b[01;34mreferences\u001b[0m/  setup.py          tox.ini\n",
            "LICENSE  \u001b[01;34mnotebooks\u001b[0m/  \u001b[01;34mreports\u001b[0m/     \u001b[01;34msrc\u001b[0m/\n"
          ]
        }
      ]
    },
    {
      "cell_type": "code",
      "source": [
        "pwd\n"
      ],
      "metadata": {
        "colab": {
          "base_uri": "https://localhost:8080/",
          "height": 35
        },
        "id": "USHWo4otcd6K",
        "outputId": "2652fe2e-023b-4801-99bc-357345b2e46f"
      },
      "execution_count": 9,
      "outputs": [
        {
          "output_type": "execute_result",
          "data": {
            "text/plain": [
              "'/content/iisc_python_aiml_ops'"
            ],
            "application/vnd.google.colaboratory.intrinsic+json": {
              "type": "string"
            }
          },
          "metadata": {},
          "execution_count": 9
        }
      ]
    },
    {
      "cell_type": "code",
      "source": [],
      "metadata": {
        "id": "ggcYDdK3dOA7"
      },
      "execution_count": null,
      "outputs": []
    }
  ]
}